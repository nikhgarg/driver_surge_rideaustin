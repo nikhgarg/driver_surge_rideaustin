{
 "cells": [
  {
   "cell_type": "code",
   "execution_count": 1,
   "metadata": {
    "ExecuteTime": {
     "end_time": "2019-11-11T20:02:25.065271Z",
     "start_time": "2019-11-11T20:02:25.005454Z"
    }
   },
   "outputs": [],
   "source": [
    "%load_ext autoreload\n",
    "%autoreload 2"
   ]
  },
  {
   "cell_type": "code",
   "execution_count": 1,
   "metadata": {
    "ExecuteTime": {
     "end_time": "2019-11-28T16:08:35.842151Z",
     "start_time": "2019-11-28T16:08:30.589590Z"
    }
   },
   "outputs": [],
   "source": [
    "import sys\n",
    "sys.path.insert(0, \"../\")\n",
    "\n",
    "import pandas as pd\n",
    "import scipy\n",
    "from scipy import stats as stats\n",
    "import numpy as np\n",
    "from functools import partial\n",
    "import copy\n",
    "import seaborn as sns\n",
    "\n",
    "# from generic.latexify import *\n",
    "\n",
    "from utilities import *\n",
    "from payment.payment_functions import *\n",
    "from payment.payment_function_evaluation import *\n",
    "from payment.payment_function_templates import *"
   ]
  },
  {
   "cell_type": "code",
   "execution_count": 2,
   "metadata": {
    "ExecuteTime": {
     "end_time": "2019-11-28T16:08:35.857736Z",
     "start_time": "2019-11-28T16:08:35.842151Z"
    }
   },
   "outputs": [],
   "source": [
    "folder = '../data/rideaustin/'\n",
    "filename = 'ridesfakefactor_validreverseengineered.csv'"
   ]
  },
  {
   "cell_type": "code",
   "execution_count": 3,
   "metadata": {
    "ExecuteTime": {
     "end_time": "2019-11-28T16:08:44.607679Z",
     "start_time": "2019-11-28T16:08:35.857736Z"
    }
   },
   "outputs": [
    {
     "name": "stderr",
     "output_type": "stream",
     "text": [
      "C:\\Users\\Nikhil\\Miniconda3\\lib\\site-packages\\IPython\\core\\interactiveshell.py:3249: DtypeWarning: Columns (44) have mixed types. Specify dtype option on import or set low_memory=False.\n",
      "  if (await self.run_code(code, result,  async_=asy)):\n"
     ]
    }
   ],
   "source": [
    "df = load_data(folder, filename)"
   ]
  },
  {
   "cell_type": "code",
   "execution_count": 4,
   "metadata": {
    "ExecuteTime": {
     "end_time": "2019-11-28T16:08:44.623305Z",
     "start_time": "2019-11-28T16:08:44.607679Z"
    }
   },
   "outputs": [
    {
     "name": "stdout",
     "output_type": "stream",
     "text": [
      "Index(['Unnamed: 0', 'started_on', 'created_date', 'updated_date',\n",
      "       'completed_on', 'distance_travelled', 'end_location_lat',\n",
      "       'end_location_long', 'driver_rating', 'rider_rating',\n",
      "       'active_driver_id', 'charity_id', 'requested_car_category',\n",
      "       'free_credit_used', 'surge_factor', 'start_location_long',\n",
      "       'start_location_lat', 'rider_id', 'round_up_amount',\n",
      "       'promocode_redemption_id', 'driver_reached_on', 'base_fare',\n",
      "       'total_fare', 'rate_per_mile', 'rate_per_minute', 'time_fare',\n",
      "       'driver_accepted_on', 'esimtated_time_arrive', 'tipped_on', 'tip',\n",
      "       'driving_time_to_rider', 'dispatch_location_lat',\n",
      "       'dispatch_location_long', 'driving_distance_to_rider', 'dispatched_on',\n",
      "       'status', 'driver_id', 'car_id', 'color', 'make', 'model', 'year',\n",
      "       'car_categories_bitmask', 'rating', 'cancelled_on',\n",
      "       'started_on_hours_since_epoch', 'completed_on_hours_since_epoch',\n",
      "       'dispatched_on_hours_since_epoch', 'start_hour', 'start_hour_rounded',\n",
      "       'end_hour', 'end_hour_rounded', 'dispatch_hour',\n",
      "       'dispatch_hour_rounded', 'start_day_rounded', 'ride_total_time',\n",
      "       'ride_total_time_seconds', 'surged_trip', 'miles'],\n",
      "      dtype='object')\n"
     ]
    }
   ],
   "source": [
    "print(df.columns)"
   ]
  },
  {
   "cell_type": "code",
   "execution_count": 16,
   "metadata": {
    "ExecuteTime": {
     "end_time": "2019-11-11T20:24:46.889017Z",
     "start_time": "2019-11-11T20:24:41.581842Z"
    }
   },
   "outputs": [],
   "source": [
    "# df_10hours = load_data(folder, 'rides_10hours.csv')\n",
    "# df_oneday = load_data(folder, 'rides_24hours.csv')\n",
    "# # df_3weeks = load_data(folder, 'rides_3weeks.csv')"
   ]
  },
  {
   "cell_type": "code",
   "execution_count": 5,
   "metadata": {
    "ExecuteTime": {
     "end_time": "2019-11-28T16:08:57.999715Z",
     "start_time": "2019-11-28T16:08:57.952862Z"
    }
   },
   "outputs": [],
   "source": [
    "df_small = df.sample(1000)\n",
    "dfs = [df,df_small]\n",
    "df_names = ['', '_small']"
   ]
  },
  {
   "cell_type": "code",
   "execution_count": 6,
   "metadata": {
    "ExecuteTime": {
     "end_time": "2019-11-28T16:09:01.842896Z",
     "start_time": "2019-11-28T16:09:01.171014Z"
    }
   },
   "outputs": [],
   "source": [
    "for en in range(len(dfs)):\n",
    "    dfs[en] = payment_reverse_engineer(dfs[en])"
   ]
  },
  {
   "cell_type": "markdown",
   "metadata": {},
   "source": [
    "## Do the same thing I did in other notebook for pure add/mult surge, but for the add surge with the min fare, etc"
   ]
  },
  {
   "cell_type": "code",
   "execution_count": 7,
   "metadata": {
    "ExecuteTime": {
     "end_time": "2019-11-28T16:09:07.467006Z",
     "start_time": "2019-11-28T16:09:07.451408Z"
    }
   },
   "outputs": [],
   "source": [
    "def find_parameters_for_dataset(dfloc, dfname):\n",
    "    unique_surge_factors = dfloc.surge_factor.unique()\n",
    "    \n",
    "    additive_by_surge = {}\n",
    "\n",
    "    for surge_factor in unique_surge_factors:\n",
    "        print(surge_factor)\n",
    "        dflocsurge = dfloc.query('surge_factor == @surge_factor')\n",
    "\n",
    "        func_addwithmin = partial(withmin_additive_surge_withparams, col_name = 'withmin_addsurge_fare')\n",
    "   \n",
    "        additive_by_surge[surge_factor] = binary_search_to_find_parameter(dflocsurge, func_addwithmin, 'mimic_fare', 'withmin_addsurge_fare', print_stuff = False)  \n",
    "    \n",
    "    print('additives_by_surge_withmin{} = {}'.format(dfname,additive_by_surge))\n",
    "    \n",
    "    #test that they work, by plotting mean surge payments by surge factor\n",
    "    func_addwithmin_bysurge = partial(withmin_additive_bysurgefactor_withparams, additives_by_surge = additive_by_surge, col_name = 'withmin_addsurge_bysurgefactor_fare')\n",
    "    dfloc = func_addwithmin_bysurge(dfloc)\n",
    "\n",
    "    plot_meanpayment_bysurgefactor(dfloc, ['withmin_addsurge_bysurgefactor_fare', 'mimic_fare'])\n",
    "    plt.show()\n",
    "    return additive_by_surge"
   ]
  },
  {
   "cell_type": "code",
   "execution_count": 8,
   "metadata": {
    "ExecuteTime": {
     "end_time": "2019-11-28T16:09:23.000156Z",
     "start_time": "2019-11-28T16:09:09.654359Z"
    }
   },
   "outputs": [
    {
     "name": "stdout",
     "output_type": "stream",
     "text": [
      "5.0\n"
     ]
    },
    {
     "name": "stderr",
     "output_type": "stream",
     "text": [
      "C:\\Users\\Nikhil\\Miniconda3\\lib\\site-packages\\pandas\\core\\indexing.py:376: SettingWithCopyWarning: \n",
      "A value is trying to be set on a copy of a slice from a DataFrame.\n",
      "Try using .loc[row_indexer,col_indexer] = value instead\n",
      "\n",
      "See the caveats in the documentation: http://pandas.pydata.org/pandas-docs/stable/user_guide/indexing.html#returning-a-view-versus-a-copy\n",
      "  self.obj[key] = _infer_fill_value(value)\n",
      "C:\\Users\\Nikhil\\Miniconda3\\lib\\site-packages\\pandas\\core\\indexing.py:494: SettingWithCopyWarning: \n",
      "A value is trying to be set on a copy of a slice from a DataFrame.\n",
      "Try using .loc[row_indexer,col_indexer] = value instead\n",
      "\n",
      "See the caveats in the documentation: http://pandas.pydata.org/pandas-docs/stable/user_guide/indexing.html#returning-a-view-versus-a-copy\n",
      "  self.obj[item] = s\n"
     ]
    },
    {
     "name": "stdout",
     "output_type": "stream",
     "text": [
      "4.75\n",
      "4.5\n",
      "4.0\n",
      "4.25\n",
      "3.75\n",
      "3.5\n",
      "3.0\n",
      "3.25\n",
      "2.75\n",
      "2.5\n",
      "2.0\n",
      "2.25\n",
      "1.75\n",
      "1.5\n",
      "1.0\n",
      "additives_by_surge_withmin = {5.0: 11.679040174931288, 4.75: 9.453221736475825, 4.5: 9.588401101063937, 4.0: 9.615769982337952, 4.25: 9.594031726010144, 3.75: 9.957537893205881, 3.5: 9.92576852440834, 3.0: 10.548560321331024, 3.25: 10.640523582696915, 2.75: 10.865232348442078, 2.5: 11.063981056213379, 2.0: 12.741836905479431, 2.25: 12.023007869720459, 1.75: 11.503362655639648, 1.5: 14.593744277954102, 1.0: 50.0}\n"
     ]
    },
    {
     "data": {
      "image/png": "[encoded data removed]",
      "text/plain": [
       "<Figure size 432x288 with 1 Axes>"
      ]
     },
     "metadata": {
      "needs_background": "light"
     },
     "output_type": "display_data"
    }
   ],
   "source": [
    "which = 0\n",
    "additive_by_surge = find_parameters_for_dataset(dfs[which], df_names[which])"
   ]
  },
  {
   "cell_type": "code",
   "execution_count": 9,
   "metadata": {
    "ExecuteTime": {
     "end_time": "2019-11-28T16:09:23.263603Z",
     "start_time": "2019-11-28T16:09:23.000156Z"
    }
   },
   "outputs": [
    {
     "data": {
      "text/plain": [
       "<matplotlib.collections.PathCollection at 0x1ff2476a828>"
      ]
     },
     "execution_count": 9,
     "metadata": {},
     "output_type": "execute_result"
    },
    {
     "data": {
      "image/png": "[encoded data removed]",
      "text/plain": [
       "<Figure size 432x288 with 1 Axes>"
      ]
     },
     "metadata": {
      "needs_background": "light"
     },
     "output_type": "display_data"
    }
   ],
   "source": [
    "plt.scatter([x for x in additive_by_surge], [additive_by_surge[x]*(x-1) for x in additive_by_surge])"
   ]
  },
  {
   "cell_type": "code",
   "execution_count": 10,
   "metadata": {
    "ExecuteTime": {
     "end_time": "2019-11-28T16:09:49.983702Z",
     "start_time": "2019-11-28T16:09:45.436057Z"
    }
   },
   "outputs": [
    {
     "data": {
      "text/plain": [
       "<matplotlib.axes._subplots.AxesSubplot at 0x1ff247af1d0>"
      ]
     },
     "execution_count": 10,
     "metadata": {},
     "output_type": "execute_result"
    },
    {
     "data": {
      "image/png": "[encoded data removed]",
      "text/plain": [
       "<Figure size 432x288 with 1 Axes>"
      ]
     },
     "metadata": {
      "needs_background": "light"
     },
     "output_type": "display_data"
    }
   ],
   "source": [
    "dfs[0] = withmin_additive_bysurgefactor(dfs[0])\n",
    "sns.scatterplot(data= dfs[0], x = 'mimic_fare', y = 'withmin_addsurge_bysurgefactor_fare')"
   ]
  },
  {
   "cell_type": "code",
   "execution_count": null,
   "metadata": {
    "ExecuteTime": {
     "end_time": "2019-11-28T16:11:22.106838Z",
     "start_time": "2019-11-28T16:11:21.826791Z"
    }
   },
   "outputs": [],
   "source": []
  },
  {
   "cell_type": "code",
   "execution_count": null,
   "metadata": {},
   "outputs": [],
   "source": []
  }
 ],
 "metadata": {
  "kernelspec": {
   "display_name": "Python 3",
   "language": "python",
   "name": "python3"
  },
  "language_info": {
   "codemirror_mode": {
    "name": "ipython",
    "version": 3
   },
   "file_extension": ".py",
   "mimetype": "text/x-python",
   "name": "python",
   "nbconvert_exporter": "python",
   "pygments_lexer": "ipython3",
   "version": "3.6.7"
  },
  "varInspector": {
   "cols": {
    "lenName": 16,
    "lenType": 16,
    "lenVar": 40
   },
   "kernels_config": {
    "python": {
     "delete_cmd_postfix": "",
     "delete_cmd_prefix": "del ",
     "library": "var_list.py",
     "varRefreshCmd": "print(var_dic_list())"
    },
    "r": {
     "delete_cmd_postfix": ") ",
     "delete_cmd_prefix": "rm(",
     "library": "var_list.r",
     "varRefreshCmd": "cat(var_dic_list()) "
    }
   },
   "types_to_exclude": [
    "module",
    "function",
    "builtin_function_or_method",
    "instance",
    "_Feature"
   ],
   "window_display": false
  }
 },
 "nbformat": 4,
 "nbformat_minor": 2
}
