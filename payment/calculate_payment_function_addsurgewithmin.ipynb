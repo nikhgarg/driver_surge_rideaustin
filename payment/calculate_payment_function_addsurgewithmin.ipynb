{
 "cells": [
  {
   "cell_type": "code",
   "execution_count": 1,
   "metadata": {
    "ExecuteTime": {
     "end_time": "2019-11-11T20:02:25.065271Z",
     "start_time": "2019-11-11T20:02:25.005454Z"
    }
   },
   "outputs": [],
   "source": [
    "%load_ext autoreload\n",
    "%autoreload 2"
   ]
  },
  {
   "cell_type": "code",
   "execution_count": 53,
   "metadata": {
    "ExecuteTime": {
     "end_time": "2019-11-11T21:20:22.119337Z",
     "start_time": "2019-11-11T21:20:22.030485Z"
    }
   },
   "outputs": [],
   "source": [
    "import sys\n",
    "sys.path.insert(0, \"../\")\n",
    "\n",
    "import pandas as pd\n",
    "import scipy\n",
    "from scipy import stats as stats\n",
    "import numpy as np\n",
    "from functools import partial\n",
    "import copy\n",
    "import seaborn as sns\n",
    "\n",
    "# from generic.latexify import *\n",
    "\n",
    "from utilities import *\n",
    "from payment.payment_functions import *\n",
    "from payment.payment_function_evaluation import *\n",
    "from payment.payment_function_templates import *"
   ]
  },
  {
   "cell_type": "code",
   "execution_count": 13,
   "metadata": {
    "ExecuteTime": {
     "end_time": "2019-11-11T20:24:24.977662Z",
     "start_time": "2019-11-11T20:24:24.907981Z"
    }
   },
   "outputs": [],
   "source": [
    "folder = '../data/rideaustin/'\n",
    "filename = 'rides_validreverseengineered.csv'"
   ]
  },
  {
   "cell_type": "code",
   "execution_count": 14,
   "metadata": {
    "ExecuteTime": {
     "end_time": "2019-11-11T20:24:38.330517Z",
     "start_time": "2019-11-11T20:24:27.767664Z"
    }
   },
   "outputs": [
    {
     "name": "stderr",
     "output_type": "stream",
     "text": [
      "C:\\Users\\Nikhil\\Miniconda3\\lib\\site-packages\\IPython\\core\\interactiveshell.py:3249: DtypeWarning: Columns (43) have mixed types. Specify dtype option on import or set low_memory=False.\n",
      "  if (await self.run_code(code, result,  async_=asy)):\n"
     ]
    }
   ],
   "source": [
    "df = load_data(folder, filename)"
   ]
  },
  {
   "cell_type": "code",
   "execution_count": 15,
   "metadata": {
    "ExecuteTime": {
     "end_time": "2019-11-11T20:24:39.980140Z",
     "start_time": "2019-11-11T20:24:39.913582Z"
    }
   },
   "outputs": [
    {
     "name": "stdout",
     "output_type": "stream",
     "text": [
      "Index(['started_on', 'created_date', 'updated_date', 'completed_on',\n",
      "       'distance_travelled', 'end_location_lat', 'end_location_long',\n",
      "       'driver_rating', 'rider_rating', 'active_driver_id', 'charity_id',\n",
      "       'requested_car_category', 'free_credit_used', 'surge_factor',\n",
      "       'start_location_long', 'start_location_lat', 'rider_id',\n",
      "       'round_up_amount', 'promocode_redemption_id', 'driver_reached_on',\n",
      "       'base_fare', 'total_fare', 'rate_per_mile', 'rate_per_minute',\n",
      "       'time_fare', 'driver_accepted_on', 'esimtated_time_arrive', 'tipped_on',\n",
      "       'tip', 'driving_time_to_rider', 'dispatch_location_lat',\n",
      "       'dispatch_location_long', 'driving_distance_to_rider', 'dispatched_on',\n",
      "       'status', 'driver_id', 'car_id', 'color', 'make', 'model', 'year',\n",
      "       'car_categories_bitmask', 'rating', 'cancelled_on',\n",
      "       'started_on_hours_since_epoch', 'completed_on_hours_since_epoch',\n",
      "       'dispatched_on_hours_since_epoch', 'start_hour', 'start_hour_rounded',\n",
      "       'end_hour', 'end_hour_rounded', 'dispatch_hour',\n",
      "       'dispatch_hour_rounded', 'start_day_rounded', 'ride_total_time',\n",
      "       'ride_total_time_seconds', 'surged_trip', 'miles'],\n",
      "      dtype='object')\n"
     ]
    }
   ],
   "source": [
    "print(df.columns)"
   ]
  },
  {
   "cell_type": "code",
   "execution_count": 16,
   "metadata": {
    "ExecuteTime": {
     "end_time": "2019-11-11T20:24:46.889017Z",
     "start_time": "2019-11-11T20:24:41.581842Z"
    }
   },
   "outputs": [],
   "source": [
    "df_10hours = load_data(folder, 'rides_10hours.csv')\n",
    "df_oneday = load_data(folder, 'rides_24hours.csv')\n",
    "# df_3weeks = load_data(folder, 'rides_3weeks.csv')"
   ]
  },
  {
   "cell_type": "code",
   "execution_count": 9,
   "metadata": {
    "ExecuteTime": {
     "end_time": "2019-11-11T20:05:26.962569Z",
     "start_time": "2019-11-11T20:05:26.837429Z"
    }
   },
   "outputs": [],
   "source": [
    "df_small = df.sample(1000)\n",
    "dfs = [df, df_10hours, df_oneday, df_small]\n",
    "df_names = ['', '_10hrs', '_24hrs', '_small']"
   ]
  },
  {
   "cell_type": "code",
   "execution_count": 17,
   "metadata": {
    "ExecuteTime": {
     "end_time": "2019-11-11T20:28:24.931463Z",
     "start_time": "2019-11-11T20:28:24.061239Z"
    }
   },
   "outputs": [],
   "source": [
    "for en in range(len(dfs)):\n",
    "    dfs[en] = payment_reverse_engineer(dfs[en])"
   ]
  },
  {
   "cell_type": "markdown",
   "metadata": {},
   "source": [
    "## Do the same thing I did in other notebook for pure add/mult surge, but for the add surge with the min fare, etc"
   ]
  },
  {
   "cell_type": "code",
   "execution_count": 45,
   "metadata": {
    "ExecuteTime": {
     "end_time": "2019-11-11T20:45:40.953654Z",
     "start_time": "2019-11-11T20:45:40.843634Z"
    }
   },
   "outputs": [],
   "source": [
    "def find_parameters_for_dataset(dfloc, dfname):\n",
    "    unique_surge_factors = dfloc.surge_factor.unique()\n",
    "    \n",
    "    additive_by_surge = {}\n",
    "\n",
    "    for surge_factor in unique_surge_factors:\n",
    "        print(surge_factor)\n",
    "        dflocsurge = dfloc.query('surge_factor == @surge_factor')\n",
    "\n",
    "        func_addwithmin = partial(withmin_additive_surge_withparams, col_name = 'withmin_addsurge_fare')\n",
    "   \n",
    "        additive_by_surge[surge_factor] = binary_search_to_find_parameter(dflocsurge, func_addwithmin, 'mimic_fare', 'withmin_addsurge_fare', print_stuff = False)  \n",
    "    \n",
    "    print('additives_by_surge_withmin{} = {}'.format(dfname,additive_by_surge))\n",
    "    \n",
    "    #test that they work, by plotting mean surge payments by surge factor\n",
    "    func_addwithmin_bysurge = partial(withmin_additive_bysurgefactor_withparams, additives_by_surge = additive_by_surge, col_name = 'withmin_addsurge_bysurgefactor_fare')\n",
    "    dfloc = func_addwithmin_bysurge(dfloc)\n",
    "\n",
    "    plot_meanpayment_bysurgefactor(dfloc, ['withmin_addsurge_bysurgefactor_fare', 'mimic_fare'])\n",
    "    plt.show()\n",
    "    return additive_by_surge"
   ]
  },
  {
   "cell_type": "code",
   "execution_count": 50,
   "metadata": {
    "ExecuteTime": {
     "end_time": "2019-11-11T21:10:26.899412Z",
     "start_time": "2019-11-11T21:10:12.100396Z"
    }
   },
   "outputs": [
    {
     "name": "stdout",
     "output_type": "stream",
     "text": [
      "1.0\n"
     ]
    },
    {
     "name": "stderr",
     "output_type": "stream",
     "text": [
      "C:\\Users\\Nikhil\\Miniconda3\\lib\\site-packages\\pandas\\core\\indexing.py:376: SettingWithCopyWarning: \n",
      "A value is trying to be set on a copy of a slice from a DataFrame.\n",
      "Try using .loc[row_indexer,col_indexer] = value instead\n",
      "\n",
      "See the caveats in the documentation: http://pandas.pydata.org/pandas-docs/stable/user_guide/indexing.html#returning-a-view-versus-a-copy\n",
      "  self.obj[key] = _infer_fill_value(value)\n",
      "C:\\Users\\Nikhil\\Miniconda3\\lib\\site-packages\\pandas\\core\\indexing.py:494: SettingWithCopyWarning: \n",
      "A value is trying to be set on a copy of a slice from a DataFrame.\n",
      "Try using .loc[row_indexer,col_indexer] = value instead\n",
      "\n",
      "See the caveats in the documentation: http://pandas.pydata.org/pandas-docs/stable/user_guide/indexing.html#returning-a-view-versus-a-copy\n",
      "  self.obj[item] = s\n"
     ]
    },
    {
     "name": "stdout",
     "output_type": "stream",
     "text": [
      "1.25\n",
      "1.5\n",
      "2.0\n",
      "1.75\n",
      "2.25\n",
      "2.5\n",
      "3.0\n",
      "2.75\n",
      "3.25\n",
      "3.5\n",
      "4.0\n",
      "3.75\n",
      "4.25\n",
      "4.5\n",
      "5.0\n",
      "additives_by_surge_withmin = {1.0: 50.0, 1.25: 9.451798722147942, 1.5: 9.588177595287561, 2.0: 9.615769982337952, 1.75: 9.594031795859337, 2.25: 9.957537800073624, 2.5: 9.92576852440834, 3.0: 10.548560321331024, 2.75: 10.640523582696915, 3.25: 10.865232348442078, 3.5: 11.063981056213379, 4.0: 12.741836160421371, 3.75: 12.023009359836578, 4.25: 11.503374576568604, 4.5: 14.593738317489624, 5.0: 11.09071969985962}\n"
     ]
    },
    {
     "data": {
      "image/png": "[encoded data removed]",
      "text/plain": [
       "<Figure size 432x288 with 1 Axes>"
      ]
     },
     "metadata": {
      "needs_background": "light"
     },
     "output_type": "display_data"
    }
   ],
   "source": [
    "which = 0\n",
    "additive_by_surge = find_parameters_for_dataset(dfs[which], df_names[which])"
   ]
  },
  {
   "cell_type": "code",
   "execution_count": 51,
   "metadata": {
    "ExecuteTime": {
     "end_time": "2019-11-11T21:10:29.495655Z",
     "start_time": "2019-11-11T21:10:29.113469Z"
    }
   },
   "outputs": [
    {
     "data": {
      "text/plain": [
       "<matplotlib.collections.PathCollection at 0x24c36302f60>"
      ]
     },
     "execution_count": 51,
     "metadata": {},
     "output_type": "execute_result"
    },
    {
     "data": {
      "image/png": "[encoded data removed]",
      "text/plain": [
       "<Figure size 432x288 with 1 Axes>"
      ]
     },
     "metadata": {
      "needs_background": "light"
     },
     "output_type": "display_data"
    }
   ],
   "source": [
    "plt.scatter([x for x in additive_by_surge], [additive_by_surge[x]*(x-1) for x in additive_by_surge])"
   ]
  },
  {
   "cell_type": "code",
   "execution_count": 55,
   "metadata": {
    "ExecuteTime": {
     "end_time": "2019-11-11T21:20:36.554989Z",
     "start_time": "2019-11-11T21:20:28.778205Z"
    }
   },
   "outputs": [
    {
     "data": {
      "text/plain": [
       "<matplotlib.axes._subplots.AxesSubplot at 0x24c361a5470>"
      ]
     },
     "execution_count": 55,
     "metadata": {},
     "output_type": "execute_result"
    },
    {
     "data": {
      "image/png": "[encoded data removed]",
      "text/plain": [
       "<Figure size 432x288 with 1 Axes>"
      ]
     },
     "metadata": {
      "needs_background": "light"
     },
     "output_type": "display_data"
    }
   ],
   "source": [
    "dfs[0] = withmin_additive_bysurgefactor(dfs[0])\n",
    "sns.scatterplot(data= dfs[0], x = 'mimic_fare', y = 'withmin_addsurge_bysurgefactor_fare')"
   ]
  },
  {
   "cell_type": "code",
   "execution_count": null,
   "metadata": {},
   "outputs": [],
   "source": []
  }
 ],
 "metadata": {
  "kernelspec": {
   "display_name": "Python 3",
   "language": "python",
   "name": "python3"
  },
  "language_info": {
   "codemirror_mode": {
    "name": "ipython",
    "version": 3
   },
   "file_extension": ".py",
   "mimetype": "text/x-python",
   "name": "python",
   "nbconvert_exporter": "python",
   "pygments_lexer": "ipython3",
   "version": "3.6.7"
  },
  "varInspector": {
   "cols": {
    "lenName": 16,
    "lenType": 16,
    "lenVar": 40
   },
   "kernels_config": {
    "python": {
     "delete_cmd_postfix": "",
     "delete_cmd_prefix": "del ",
     "library": "var_list.py",
     "varRefreshCmd": "print(var_dic_list())"
    },
    "r": {
     "delete_cmd_postfix": ") ",
     "delete_cmd_prefix": "rm(",
     "library": "var_list.r",
     "varRefreshCmd": "cat(var_dic_list()) "
    }
   },
   "types_to_exclude": [
    "module",
    "function",
    "builtin_function_or_method",
    "instance",
    "_Feature"
   ],
   "window_display": false
  }
 },
 "nbformat": 4,
 "nbformat_minor": 2
}
